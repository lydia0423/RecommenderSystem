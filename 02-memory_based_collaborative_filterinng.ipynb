{
 "cells": [
  {
   "cell_type": "code",
   "execution_count": 50,
   "metadata": {},
   "outputs": [],
   "source": [
    "import pandas as pd\n",
    "import numpy as np\n",
    "from sklearn.metrics.pairwise import cosine_similarity"
   ]
  },
  {
   "cell_type": "code",
   "execution_count": 30,
   "metadata": {},
   "outputs": [],
   "source": [
    "amzn_ratings = pd.read_csv('Data/ratings_Beauty.csv')"
   ]
  },
  {
   "cell_type": "code",
   "execution_count": 31,
   "metadata": {},
   "outputs": [
    {
     "data": {
      "text/html": [
       "<div>\n",
       "<style scoped>\n",
       "    .dataframe tbody tr th:only-of-type {\n",
       "        vertical-align: middle;\n",
       "    }\n",
       "\n",
       "    .dataframe tbody tr th {\n",
       "        vertical-align: top;\n",
       "    }\n",
       "\n",
       "    .dataframe thead th {\n",
       "        text-align: right;\n",
       "    }\n",
       "</style>\n",
       "<table border=\"1\" class=\"dataframe\">\n",
       "  <thead>\n",
       "    <tr style=\"text-align: right;\">\n",
       "      <th></th>\n",
       "      <th>UserId</th>\n",
       "      <th>ProductId</th>\n",
       "      <th>Rating</th>\n",
       "      <th>Timestamp</th>\n",
       "    </tr>\n",
       "  </thead>\n",
       "  <tbody>\n",
       "    <tr>\n",
       "      <th>0</th>\n",
       "      <td>A39HTATAQ9V7YF</td>\n",
       "      <td>0205616461</td>\n",
       "      <td>5.0</td>\n",
       "      <td>1369699200</td>\n",
       "    </tr>\n",
       "    <tr>\n",
       "      <th>1</th>\n",
       "      <td>A3JM6GV9MNOF9X</td>\n",
       "      <td>0558925278</td>\n",
       "      <td>3.0</td>\n",
       "      <td>1355443200</td>\n",
       "    </tr>\n",
       "    <tr>\n",
       "      <th>2</th>\n",
       "      <td>A1Z513UWSAAO0F</td>\n",
       "      <td>0558925278</td>\n",
       "      <td>5.0</td>\n",
       "      <td>1404691200</td>\n",
       "    </tr>\n",
       "    <tr>\n",
       "      <th>3</th>\n",
       "      <td>A1WMRR494NWEWV</td>\n",
       "      <td>0733001998</td>\n",
       "      <td>4.0</td>\n",
       "      <td>1382572800</td>\n",
       "    </tr>\n",
       "    <tr>\n",
       "      <th>4</th>\n",
       "      <td>A3IAAVS479H7M7</td>\n",
       "      <td>0737104473</td>\n",
       "      <td>1.0</td>\n",
       "      <td>1274227200</td>\n",
       "    </tr>\n",
       "  </tbody>\n",
       "</table>\n",
       "</div>"
      ],
      "text/plain": [
       "           UserId   ProductId  Rating   Timestamp\n",
       "0  A39HTATAQ9V7YF  0205616461     5.0  1369699200\n",
       "1  A3JM6GV9MNOF9X  0558925278     3.0  1355443200\n",
       "2  A1Z513UWSAAO0F  0558925278     5.0  1404691200\n",
       "3  A1WMRR494NWEWV  0733001998     4.0  1382572800\n",
       "4  A3IAAVS479H7M7  0737104473     1.0  1274227200"
      ]
     },
     "execution_count": 31,
     "metadata": {},
     "output_type": "execute_result"
    }
   ],
   "source": [
    "amzn_ratings.head()"
   ]
  },
  {
   "cell_type": "code",
   "execution_count": 32,
   "metadata": {},
   "outputs": [],
   "source": [
    "amzn_ratings = amzn_ratings.sample(25000)"
   ]
  },
  {
   "cell_type": "code",
   "execution_count": 33,
   "metadata": {},
   "outputs": [
    {
     "data": {
      "text/plain": [
       "(25000, 4)"
      ]
     },
     "execution_count": 33,
     "metadata": {},
     "output_type": "execute_result"
    }
   ],
   "source": [
    "amzn_ratings.shape"
   ]
  },
  {
   "cell_type": "code",
   "execution_count": 34,
   "metadata": {},
   "outputs": [
    {
     "name": "stdout",
     "output_type": "stream",
     "text": [
      "24425\n"
     ]
    }
   ],
   "source": [
    "unique_users = amzn_ratings['UserId'].unique()\n",
    "print(len(unique_users))"
   ]
  },
  {
   "cell_type": "code",
   "execution_count": 35,
   "metadata": {},
   "outputs": [
    {
     "name": "stdout",
     "output_type": "stream",
     "text": [
      "17446\n"
     ]
    }
   ],
   "source": [
    "unique_products = amzn_ratings['ProductId'].unique()\n",
    "print(len(unique_products))"
   ]
  },
  {
   "cell_type": "code",
   "execution_count": 36,
   "metadata": {},
   "outputs": [],
   "source": [
    "new_df = pd.DataFrame(unique_users)\n",
    "new_df.columns=['UserId']"
   ]
  },
  {
   "cell_type": "code",
   "execution_count": 37,
   "metadata": {},
   "outputs": [
    {
     "name": "stderr",
     "output_type": "stream",
     "text": [
      "/var/folders/f4/m2y65p_s4w1c0qg_hsv9r9dr0000gn/T/ipykernel_84097/732139935.py:2: PerformanceWarning: DataFrame is highly fragmented.  This is usually the result of calling `frame.insert` many times, which has poor performance.  Consider joining all columns at once using pd.concat(axis=1) instead.  To get a de-fragmented frame, use `newframe = frame.copy()`\n",
      "  new_df[product] = None\n"
     ]
    }
   ],
   "source": [
    "for product in unique_products:\n",
    "    new_df[product] = None"
   ]
  },
  {
   "cell_type": "code",
   "execution_count": 38,
   "metadata": {},
   "outputs": [],
   "source": [
    "for j, user in enumerate(new_df['UserId'].values):\n",
    "    for i in range(amzn_ratings[amzn_ratings['UserId'] == user].shape[0]):\n",
    "        product_id = amzn_ratings[amzn_ratings['UserId'] == user]['ProductId'].iloc[i]\n",
    "        rating = amzn_ratings[amzn_ratings['UserId'] == user]['Rating'].iloc[i]\n",
    "        new_df[product_id][j] = rating\n",
    "        "
   ]
  },
  {
   "cell_type": "code",
   "execution_count": 39,
   "metadata": {},
   "outputs": [
    {
     "data": {
      "text/html": [
       "<div>\n",
       "<style scoped>\n",
       "    .dataframe tbody tr th:only-of-type {\n",
       "        vertical-align: middle;\n",
       "    }\n",
       "\n",
       "    .dataframe tbody tr th {\n",
       "        vertical-align: top;\n",
       "    }\n",
       "\n",
       "    .dataframe thead th {\n",
       "        text-align: right;\n",
       "    }\n",
       "</style>\n",
       "<table border=\"1\" class=\"dataframe\">\n",
       "  <thead>\n",
       "    <tr style=\"text-align: right;\">\n",
       "      <th></th>\n",
       "      <th>UserId</th>\n",
       "      <th>B00CO9MFAS</th>\n",
       "      <th>B002IVKXWE</th>\n",
       "      <th>B008HBMQTM</th>\n",
       "      <th>B00A97YG9U</th>\n",
       "      <th>B0013CN8LW</th>\n",
       "      <th>B00461IZY2</th>\n",
       "      <th>B0041H1CXM</th>\n",
       "      <th>B003YW5HF4</th>\n",
       "      <th>B004HFBDE6</th>\n",
       "      <th>...</th>\n",
       "      <th>B001RVINAK</th>\n",
       "      <th>B000SASZ9K</th>\n",
       "      <th>B004GF8RYG</th>\n",
       "      <th>B005KF5WYO</th>\n",
       "      <th>B002S42J6E</th>\n",
       "      <th>B00AU9DFIK</th>\n",
       "      <th>B002U33KQQ</th>\n",
       "      <th>B001FSK740</th>\n",
       "      <th>B006XF9F16</th>\n",
       "      <th>B00AYAZ8FS</th>\n",
       "    </tr>\n",
       "  </thead>\n",
       "  <tbody>\n",
       "    <tr>\n",
       "      <th>7189</th>\n",
       "      <td>A1ILLQ86TQO36A</td>\n",
       "      <td>None</td>\n",
       "      <td>None</td>\n",
       "      <td>None</td>\n",
       "      <td>None</td>\n",
       "      <td>None</td>\n",
       "      <td>None</td>\n",
       "      <td>None</td>\n",
       "      <td>None</td>\n",
       "      <td>None</td>\n",
       "      <td>...</td>\n",
       "      <td>None</td>\n",
       "      <td>None</td>\n",
       "      <td>None</td>\n",
       "      <td>None</td>\n",
       "      <td>None</td>\n",
       "      <td>None</td>\n",
       "      <td>None</td>\n",
       "      <td>None</td>\n",
       "      <td>None</td>\n",
       "      <td>None</td>\n",
       "    </tr>\n",
       "    <tr>\n",
       "      <th>11444</th>\n",
       "      <td>AL8XXX5OWK1CD</td>\n",
       "      <td>None</td>\n",
       "      <td>None</td>\n",
       "      <td>None</td>\n",
       "      <td>None</td>\n",
       "      <td>None</td>\n",
       "      <td>None</td>\n",
       "      <td>None</td>\n",
       "      <td>None</td>\n",
       "      <td>None</td>\n",
       "      <td>...</td>\n",
       "      <td>None</td>\n",
       "      <td>None</td>\n",
       "      <td>None</td>\n",
       "      <td>None</td>\n",
       "      <td>None</td>\n",
       "      <td>None</td>\n",
       "      <td>None</td>\n",
       "      <td>None</td>\n",
       "      <td>None</td>\n",
       "      <td>None</td>\n",
       "    </tr>\n",
       "    <tr>\n",
       "      <th>15064</th>\n",
       "      <td>A35HE2NIKKQZ4I</td>\n",
       "      <td>None</td>\n",
       "      <td>None</td>\n",
       "      <td>None</td>\n",
       "      <td>None</td>\n",
       "      <td>None</td>\n",
       "      <td>None</td>\n",
       "      <td>None</td>\n",
       "      <td>None</td>\n",
       "      <td>None</td>\n",
       "      <td>...</td>\n",
       "      <td>None</td>\n",
       "      <td>None</td>\n",
       "      <td>None</td>\n",
       "      <td>None</td>\n",
       "      <td>None</td>\n",
       "      <td>None</td>\n",
       "      <td>None</td>\n",
       "      <td>None</td>\n",
       "      <td>None</td>\n",
       "      <td>None</td>\n",
       "    </tr>\n",
       "    <tr>\n",
       "      <th>2251</th>\n",
       "      <td>A4FIOQIO6D2TP</td>\n",
       "      <td>None</td>\n",
       "      <td>None</td>\n",
       "      <td>None</td>\n",
       "      <td>None</td>\n",
       "      <td>None</td>\n",
       "      <td>None</td>\n",
       "      <td>None</td>\n",
       "      <td>None</td>\n",
       "      <td>None</td>\n",
       "      <td>...</td>\n",
       "      <td>None</td>\n",
       "      <td>None</td>\n",
       "      <td>None</td>\n",
       "      <td>None</td>\n",
       "      <td>None</td>\n",
       "      <td>None</td>\n",
       "      <td>None</td>\n",
       "      <td>None</td>\n",
       "      <td>None</td>\n",
       "      <td>None</td>\n",
       "    </tr>\n",
       "    <tr>\n",
       "      <th>23872</th>\n",
       "      <td>A1739RDYJNA6HT</td>\n",
       "      <td>None</td>\n",
       "      <td>None</td>\n",
       "      <td>None</td>\n",
       "      <td>None</td>\n",
       "      <td>None</td>\n",
       "      <td>None</td>\n",
       "      <td>None</td>\n",
       "      <td>None</td>\n",
       "      <td>None</td>\n",
       "      <td>...</td>\n",
       "      <td>None</td>\n",
       "      <td>None</td>\n",
       "      <td>None</td>\n",
       "      <td>None</td>\n",
       "      <td>None</td>\n",
       "      <td>None</td>\n",
       "      <td>None</td>\n",
       "      <td>None</td>\n",
       "      <td>None</td>\n",
       "      <td>None</td>\n",
       "    </tr>\n",
       "  </tbody>\n",
       "</table>\n",
       "<p>5 rows × 17447 columns</p>\n",
       "</div>"
      ],
      "text/plain": [
       "               UserId B00CO9MFAS B002IVKXWE B008HBMQTM B00A97YG9U B0013CN8LW  \\\n",
       "7189   A1ILLQ86TQO36A       None       None       None       None       None   \n",
       "11444   AL8XXX5OWK1CD       None       None       None       None       None   \n",
       "15064  A35HE2NIKKQZ4I       None       None       None       None       None   \n",
       "2251    A4FIOQIO6D2TP       None       None       None       None       None   \n",
       "23872  A1739RDYJNA6HT       None       None       None       None       None   \n",
       "\n",
       "      B00461IZY2 B0041H1CXM B003YW5HF4 B004HFBDE6  ... B001RVINAK B000SASZ9K  \\\n",
       "7189        None       None       None       None  ...       None       None   \n",
       "11444       None       None       None       None  ...       None       None   \n",
       "15064       None       None       None       None  ...       None       None   \n",
       "2251        None       None       None       None  ...       None       None   \n",
       "23872       None       None       None       None  ...       None       None   \n",
       "\n",
       "      B004GF8RYG B005KF5WYO B002S42J6E B00AU9DFIK B002U33KQQ B001FSK740  \\\n",
       "7189        None       None       None       None       None       None   \n",
       "11444       None       None       None       None       None       None   \n",
       "15064       None       None       None       None       None       None   \n",
       "2251        None       None       None       None       None       None   \n",
       "23872       None       None       None       None       None       None   \n",
       "\n",
       "      B006XF9F16 B00AYAZ8FS  \n",
       "7189        None       None  \n",
       "11444       None       None  \n",
       "15064       None       None  \n",
       "2251        None       None  \n",
       "23872       None       None  \n",
       "\n",
       "[5 rows x 17447 columns]"
      ]
     },
     "execution_count": 39,
     "metadata": {},
     "output_type": "execute_result"
    }
   ],
   "source": [
    "new_df.sample(5)"
   ]
  },
  {
   "cell_type": "code",
   "execution_count": 40,
   "metadata": {},
   "outputs": [
    {
     "data": {
      "text/html": [
       "<div>\n",
       "<style scoped>\n",
       "    .dataframe tbody tr th:only-of-type {\n",
       "        vertical-align: middle;\n",
       "    }\n",
       "\n",
       "    .dataframe tbody tr th {\n",
       "        vertical-align: top;\n",
       "    }\n",
       "\n",
       "    .dataframe thead th {\n",
       "        text-align: right;\n",
       "    }\n",
       "</style>\n",
       "<table border=\"1\" class=\"dataframe\">\n",
       "  <thead>\n",
       "    <tr style=\"text-align: right;\">\n",
       "      <th></th>\n",
       "      <th>2142</th>\n",
       "    </tr>\n",
       "  </thead>\n",
       "  <tbody>\n",
       "    <tr>\n",
       "      <th>B0059ISG3Q</th>\n",
       "      <td>2.0</td>\n",
       "    </tr>\n",
       "  </tbody>\n",
       "</table>\n",
       "</div>"
      ],
      "text/plain": [
       "           2142\n",
       "B0059ISG3Q  2.0"
      ]
     },
     "execution_count": 40,
     "metadata": {},
     "output_type": "execute_result"
    }
   ],
   "source": [
    "user = pd.DataFrame(new_df.iloc[2142]) #randomly select user\n",
    "user = user.drop(['UserId'])\n",
    "user[user.notnull().values]"
   ]
  },
  {
   "cell_type": "code",
   "execution_count": 44,
   "metadata": {},
   "outputs": [
    {
     "data": {
      "text/html": [
       "<div>\n",
       "<style scoped>\n",
       "    .dataframe tbody tr th:only-of-type {\n",
       "        vertical-align: middle;\n",
       "    }\n",
       "\n",
       "    .dataframe tbody tr th {\n",
       "        vertical-align: top;\n",
       "    }\n",
       "\n",
       "    .dataframe thead th {\n",
       "        text-align: right;\n",
       "    }\n",
       "</style>\n",
       "<table border=\"1\" class=\"dataframe\">\n",
       "  <thead>\n",
       "    <tr style=\"text-align: right;\">\n",
       "      <th></th>\n",
       "      <th>UserId</th>\n",
       "      <th>B00CO9MFAS</th>\n",
       "      <th>B002IVKXWE</th>\n",
       "      <th>B008HBMQTM</th>\n",
       "      <th>B00A97YG9U</th>\n",
       "      <th>B0013CN8LW</th>\n",
       "      <th>B00461IZY2</th>\n",
       "      <th>B0041H1CXM</th>\n",
       "      <th>B003YW5HF4</th>\n",
       "      <th>B004HFBDE6</th>\n",
       "      <th>...</th>\n",
       "      <th>B001RVINAK</th>\n",
       "      <th>B000SASZ9K</th>\n",
       "      <th>B004GF8RYG</th>\n",
       "      <th>B005KF5WYO</th>\n",
       "      <th>B002S42J6E</th>\n",
       "      <th>B00AU9DFIK</th>\n",
       "      <th>B002U33KQQ</th>\n",
       "      <th>B001FSK740</th>\n",
       "      <th>B006XF9F16</th>\n",
       "      <th>B00AYAZ8FS</th>\n",
       "    </tr>\n",
       "  </thead>\n",
       "  <tbody>\n",
       "    <tr>\n",
       "      <th>2142</th>\n",
       "      <td>A2UD0HIQC2WIM7</td>\n",
       "      <td>None</td>\n",
       "      <td>None</td>\n",
       "      <td>None</td>\n",
       "      <td>None</td>\n",
       "      <td>None</td>\n",
       "      <td>None</td>\n",
       "      <td>None</td>\n",
       "      <td>None</td>\n",
       "      <td>None</td>\n",
       "      <td>...</td>\n",
       "      <td>None</td>\n",
       "      <td>None</td>\n",
       "      <td>None</td>\n",
       "      <td>None</td>\n",
       "      <td>None</td>\n",
       "      <td>None</td>\n",
       "      <td>None</td>\n",
       "      <td>None</td>\n",
       "      <td>None</td>\n",
       "      <td>None</td>\n",
       "    </tr>\n",
       "  </tbody>\n",
       "</table>\n",
       "<p>1 rows × 17447 columns</p>\n",
       "</div>"
      ],
      "text/plain": [
       "              UserId B00CO9MFAS B002IVKXWE B008HBMQTM B00A97YG9U B0013CN8LW  \\\n",
       "2142  A2UD0HIQC2WIM7       None       None       None       None       None   \n",
       "\n",
       "     B00461IZY2 B0041H1CXM B003YW5HF4 B004HFBDE6  ... B001RVINAK B000SASZ9K  \\\n",
       "2142       None       None       None       None  ...       None       None   \n",
       "\n",
       "     B004GF8RYG B005KF5WYO B002S42J6E B00AU9DFIK B002U33KQQ B001FSK740  \\\n",
       "2142       None       None       None       None       None       None   \n",
       "\n",
       "     B006XF9F16 B00AYAZ8FS  \n",
       "2142       None       None  \n",
       "\n",
       "[1 rows x 17447 columns]"
      ]
     },
     "execution_count": 44,
     "metadata": {},
     "output_type": "execute_result"
    }
   ],
   "source": [
    "subset = new_df[new_df[user[user.notnull().values].index[0]].notnull()]\n",
    "subset.head()"
   ]
  },
  {
   "cell_type": "code",
   "execution_count": 46,
   "metadata": {},
   "outputs": [],
   "source": [
    "subset = subset.replace([None], 0)\n",
    "subset = subset.set_index('UserId')"
   ]
  },
  {
   "cell_type": "code",
   "execution_count": 47,
   "metadata": {},
   "outputs": [
    {
     "data": {
      "text/html": [
       "<div>\n",
       "<style scoped>\n",
       "    .dataframe tbody tr th:only-of-type {\n",
       "        vertical-align: middle;\n",
       "    }\n",
       "\n",
       "    .dataframe tbody tr th {\n",
       "        vertical-align: top;\n",
       "    }\n",
       "\n",
       "    .dataframe thead th {\n",
       "        text-align: right;\n",
       "    }\n",
       "</style>\n",
       "<table border=\"1\" class=\"dataframe\">\n",
       "  <thead>\n",
       "    <tr style=\"text-align: right;\">\n",
       "      <th></th>\n",
       "      <th>B00CO9MFAS</th>\n",
       "      <th>B002IVKXWE</th>\n",
       "      <th>B008HBMQTM</th>\n",
       "      <th>B00A97YG9U</th>\n",
       "      <th>B0013CN8LW</th>\n",
       "      <th>B00461IZY2</th>\n",
       "      <th>B0041H1CXM</th>\n",
       "      <th>B003YW5HF4</th>\n",
       "      <th>B004HFBDE6</th>\n",
       "      <th>B001ECQ4R6</th>\n",
       "      <th>...</th>\n",
       "      <th>B001RVINAK</th>\n",
       "      <th>B000SASZ9K</th>\n",
       "      <th>B004GF8RYG</th>\n",
       "      <th>B005KF5WYO</th>\n",
       "      <th>B002S42J6E</th>\n",
       "      <th>B00AU9DFIK</th>\n",
       "      <th>B002U33KQQ</th>\n",
       "      <th>B001FSK740</th>\n",
       "      <th>B006XF9F16</th>\n",
       "      <th>B00AYAZ8FS</th>\n",
       "    </tr>\n",
       "    <tr>\n",
       "      <th>UserId</th>\n",
       "      <th></th>\n",
       "      <th></th>\n",
       "      <th></th>\n",
       "      <th></th>\n",
       "      <th></th>\n",
       "      <th></th>\n",
       "      <th></th>\n",
       "      <th></th>\n",
       "      <th></th>\n",
       "      <th></th>\n",
       "      <th></th>\n",
       "      <th></th>\n",
       "      <th></th>\n",
       "      <th></th>\n",
       "      <th></th>\n",
       "      <th></th>\n",
       "      <th></th>\n",
       "      <th></th>\n",
       "      <th></th>\n",
       "      <th></th>\n",
       "      <th></th>\n",
       "    </tr>\n",
       "  </thead>\n",
       "  <tbody>\n",
       "    <tr>\n",
       "      <th>A2UD0HIQC2WIM7</th>\n",
       "      <td>0</td>\n",
       "      <td>0</td>\n",
       "      <td>0</td>\n",
       "      <td>0</td>\n",
       "      <td>0</td>\n",
       "      <td>0</td>\n",
       "      <td>0</td>\n",
       "      <td>0</td>\n",
       "      <td>0</td>\n",
       "      <td>0</td>\n",
       "      <td>...</td>\n",
       "      <td>0</td>\n",
       "      <td>0</td>\n",
       "      <td>0</td>\n",
       "      <td>0</td>\n",
       "      <td>0</td>\n",
       "      <td>0</td>\n",
       "      <td>0</td>\n",
       "      <td>0</td>\n",
       "      <td>0</td>\n",
       "      <td>0</td>\n",
       "    </tr>\n",
       "  </tbody>\n",
       "</table>\n",
       "<p>1 rows × 17446 columns</p>\n",
       "</div>"
      ],
      "text/plain": [
       "                B00CO9MFAS  B002IVKXWE  B008HBMQTM  B00A97YG9U  B0013CN8LW  \\\n",
       "UserId                                                                       \n",
       "A2UD0HIQC2WIM7           0           0           0           0           0   \n",
       "\n",
       "                B00461IZY2  B0041H1CXM  B003YW5HF4  B004HFBDE6  B001ECQ4R6  \\\n",
       "UserId                                                                       \n",
       "A2UD0HIQC2WIM7           0           0           0           0           0   \n",
       "\n",
       "                ...  B001RVINAK  B000SASZ9K  B004GF8RYG  B005KF5WYO  \\\n",
       "UserId          ...                                                   \n",
       "A2UD0HIQC2WIM7  ...           0           0           0           0   \n",
       "\n",
       "                B002S42J6E  B00AU9DFIK  B002U33KQQ  B001FSK740  B006XF9F16  \\\n",
       "UserId                                                                       \n",
       "A2UD0HIQC2WIM7           0           0           0           0           0   \n",
       "\n",
       "                B00AYAZ8FS  \n",
       "UserId                      \n",
       "A2UD0HIQC2WIM7           0  \n",
       "\n",
       "[1 rows x 17446 columns]"
      ]
     },
     "execution_count": 47,
     "metadata": {},
     "output_type": "execute_result"
    }
   ],
   "source": [
    "subset.head()"
   ]
  },
  {
   "cell_type": "code",
   "execution_count": 51,
   "metadata": {},
   "outputs": [],
   "source": [
    "subset['cos_similarity'] = 0.0\n",
    "for user in subset.index:\n",
    "    cos = cosine_similarity(subset.loc['A2UD0HIQC2WIM7'].values.reshape(1, -1), subset.loc[user].values.reshape(1, -1))"
   ]
  },
  {
   "cell_type": "code",
   "execution_count": 52,
   "metadata": {},
   "outputs": [
    {
     "data": {
      "text/plain": [
       "UserId\n",
       "A2UD0HIQC2WIM7    0.0\n",
       "Name: cos_similarity, dtype: float64"
      ]
     },
     "execution_count": 52,
     "metadata": {},
     "output_type": "execute_result"
    }
   ],
   "source": [
    "subset['cos_similarity']"
   ]
  }
 ],
 "metadata": {
  "kernelspec": {
   "display_name": "Python 3 (ipykernel)",
   "language": "python",
   "name": "python3"
  },
  "language_info": {
   "codemirror_mode": {
    "name": "ipython",
    "version": 3
   },
   "file_extension": ".py",
   "mimetype": "text/x-python",
   "name": "python",
   "nbconvert_exporter": "python",
   "pygments_lexer": "ipython3",
   "version": "3.9.7"
  },
  "vscode": {
   "interpreter": {
    "hash": "c47f92bab9f96a859d7c2cf063f447cd1512e7004ddedd7dbda26e5e32d25b30"
   }
  }
 },
 "nbformat": 4,
 "nbformat_minor": 2
}
