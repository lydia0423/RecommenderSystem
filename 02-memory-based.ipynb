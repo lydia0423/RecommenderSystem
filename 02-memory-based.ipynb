{
 "cells": [
  {
   "cell_type": "code",
   "execution_count": 2,
   "metadata": {},
   "outputs": [],
   "source": [
    "import pandas as pd\n",
    "import numpy as np\n",
    "from sklearn.metrics.pairwise import cosine_similarity"
   ]
  },
  {
   "cell_type": "code",
   "execution_count": 3,
   "metadata": {},
   "outputs": [],
   "source": [
    "amzn_ratings = pd.read_csv('Data/ratings_Beauty.csv')"
   ]
  },
  {
   "cell_type": "code",
   "execution_count": 4,
   "metadata": {},
   "outputs": [
    {
     "data": {
      "text/html": [
       "<div>\n",
       "<style scoped>\n",
       "    .dataframe tbody tr th:only-of-type {\n",
       "        vertical-align: middle;\n",
       "    }\n",
       "\n",
       "    .dataframe tbody tr th {\n",
       "        vertical-align: top;\n",
       "    }\n",
       "\n",
       "    .dataframe thead th {\n",
       "        text-align: right;\n",
       "    }\n",
       "</style>\n",
       "<table border=\"1\" class=\"dataframe\">\n",
       "  <thead>\n",
       "    <tr style=\"text-align: right;\">\n",
       "      <th></th>\n",
       "      <th>UserId</th>\n",
       "      <th>ProductId</th>\n",
       "      <th>Rating</th>\n",
       "      <th>Timestamp</th>\n",
       "    </tr>\n",
       "  </thead>\n",
       "  <tbody>\n",
       "    <tr>\n",
       "      <th>0</th>\n",
       "      <td>A39HTATAQ9V7YF</td>\n",
       "      <td>0205616461</td>\n",
       "      <td>5.0</td>\n",
       "      <td>1369699200</td>\n",
       "    </tr>\n",
       "    <tr>\n",
       "      <th>1</th>\n",
       "      <td>A3JM6GV9MNOF9X</td>\n",
       "      <td>0558925278</td>\n",
       "      <td>3.0</td>\n",
       "      <td>1355443200</td>\n",
       "    </tr>\n",
       "    <tr>\n",
       "      <th>2</th>\n",
       "      <td>A1Z513UWSAAO0F</td>\n",
       "      <td>0558925278</td>\n",
       "      <td>5.0</td>\n",
       "      <td>1404691200</td>\n",
       "    </tr>\n",
       "    <tr>\n",
       "      <th>3</th>\n",
       "      <td>A1WMRR494NWEWV</td>\n",
       "      <td>0733001998</td>\n",
       "      <td>4.0</td>\n",
       "      <td>1382572800</td>\n",
       "    </tr>\n",
       "    <tr>\n",
       "      <th>4</th>\n",
       "      <td>A3IAAVS479H7M7</td>\n",
       "      <td>0737104473</td>\n",
       "      <td>1.0</td>\n",
       "      <td>1274227200</td>\n",
       "    </tr>\n",
       "  </tbody>\n",
       "</table>\n",
       "</div>"
      ],
      "text/plain": [
       "           UserId   ProductId  Rating   Timestamp\n",
       "0  A39HTATAQ9V7YF  0205616461     5.0  1369699200\n",
       "1  A3JM6GV9MNOF9X  0558925278     3.0  1355443200\n",
       "2  A1Z513UWSAAO0F  0558925278     5.0  1404691200\n",
       "3  A1WMRR494NWEWV  0733001998     4.0  1382572800\n",
       "4  A3IAAVS479H7M7  0737104473     1.0  1274227200"
      ]
     },
     "execution_count": 4,
     "metadata": {},
     "output_type": "execute_result"
    }
   ],
   "source": [
    "amzn_ratings.head()"
   ]
  },
  {
   "cell_type": "code",
   "execution_count": 5,
   "metadata": {},
   "outputs": [],
   "source": [
    "amzn_ratings = amzn_ratings.sample(2000)"
   ]
  },
  {
   "cell_type": "code",
   "execution_count": 6,
   "metadata": {},
   "outputs": [
    {
     "data": {
      "text/plain": [
       "(2000, 4)"
      ]
     },
     "execution_count": 6,
     "metadata": {},
     "output_type": "execute_result"
    }
   ],
   "source": [
    "amzn_ratings.shape"
   ]
  },
  {
   "cell_type": "code",
   "execution_count": 8,
   "metadata": {},
   "outputs": [
    {
     "name": "stdout",
     "output_type": "stream",
     "text": [
      "1998\n"
     ]
    }
   ],
   "source": [
    "unique_users = amzn_ratings['UserId'].unique()\n",
    "print(len(unique_users))"
   ]
  },
  {
   "cell_type": "code",
   "execution_count": 10,
   "metadata": {},
   "outputs": [
    {
     "name": "stdout",
     "output_type": "stream",
     "text": [
      "1877\n"
     ]
    }
   ],
   "source": [
    "unique_products = amzn_ratings['ProductId'].unique()\n",
    "print(len(unique_products))"
   ]
  },
  {
   "cell_type": "code",
   "execution_count": 9,
   "metadata": {},
   "outputs": [],
   "source": [
    "new_df = pd.DataFrame(unique_users)\n",
    "new_df.columns=['UserId']"
   ]
  },
  {
   "cell_type": "code",
   "execution_count": 11,
   "metadata": {},
   "outputs": [
    {
     "name": "stderr",
     "output_type": "stream",
     "text": [
      "C:\\Users\\lydia\\AppData\\Local\\Temp\\ipykernel_124708\\732139935.py:2: PerformanceWarning: DataFrame is highly fragmented.  This is usually the result of calling `frame.insert` many times, which has poor performance.  Consider joining all columns at once using pd.concat(axis=1) instead.  To get a de-fragmented frame, use `newframe = frame.copy()`\n",
      "  new_df[product] = None\n"
     ]
    }
   ],
   "source": [
    "for product in unique_products:\n",
    "    new_df[product] = None"
   ]
  },
  {
   "cell_type": "code",
   "execution_count": 12,
   "metadata": {},
   "outputs": [],
   "source": [
    "for j, user in enumerate(new_df['UserId'].values):\n",
    "    for i in range(amzn_ratings[amzn_ratings['UserId'] == user].shape[0]):\n",
    "        product_id = amzn_ratings[amzn_ratings['UserId'] == user]['ProductId'].iloc[i]\n",
    "        rating = amzn_ratings[amzn_ratings['UserId'] == user]['Rating'].iloc[i]\n",
    "        new_df[product_id][j] = rating"
   ]
  },
  {
   "cell_type": "code",
   "execution_count": 13,
   "metadata": {},
   "outputs": [
    {
     "data": {
      "text/html": [
       "<div>\n",
       "<style scoped>\n",
       "    .dataframe tbody tr th:only-of-type {\n",
       "        vertical-align: middle;\n",
       "    }\n",
       "\n",
       "    .dataframe tbody tr th {\n",
       "        vertical-align: top;\n",
       "    }\n",
       "\n",
       "    .dataframe thead th {\n",
       "        text-align: right;\n",
       "    }\n",
       "</style>\n",
       "<table border=\"1\" class=\"dataframe\">\n",
       "  <thead>\n",
       "    <tr style=\"text-align: right;\">\n",
       "      <th></th>\n",
       "      <th>UserId</th>\n",
       "      <th>B000N5WRTO</th>\n",
       "      <th>B008GOR6O0</th>\n",
       "      <th>B000MAPBTI</th>\n",
       "      <th>B001ET7E6O</th>\n",
       "      <th>B00E5O4AM6</th>\n",
       "      <th>B00247QR0E</th>\n",
       "      <th>B000C233LO</th>\n",
       "      <th>B00CD0SUB6</th>\n",
       "      <th>B00IES42YK</th>\n",
       "      <th>...</th>\n",
       "      <th>B004LCZEJK</th>\n",
       "      <th>B006HK7BSQ</th>\n",
       "      <th>B002LB75AO</th>\n",
       "      <th>B00112BSR0</th>\n",
       "      <th>B00147FGJ8</th>\n",
       "      <th>B00B50RX72</th>\n",
       "      <th>B00524WE2Q</th>\n",
       "      <th>B00787OGSA</th>\n",
       "      <th>B004IUN7JO</th>\n",
       "      <th>B0048O2R1E</th>\n",
       "    </tr>\n",
       "  </thead>\n",
       "  <tbody>\n",
       "    <tr>\n",
       "      <th>1038</th>\n",
       "      <td>A31JGC2ZEESDXO</td>\n",
       "      <td>None</td>\n",
       "      <td>None</td>\n",
       "      <td>None</td>\n",
       "      <td>None</td>\n",
       "      <td>None</td>\n",
       "      <td>None</td>\n",
       "      <td>None</td>\n",
       "      <td>None</td>\n",
       "      <td>None</td>\n",
       "      <td>...</td>\n",
       "      <td>None</td>\n",
       "      <td>None</td>\n",
       "      <td>None</td>\n",
       "      <td>None</td>\n",
       "      <td>None</td>\n",
       "      <td>None</td>\n",
       "      <td>None</td>\n",
       "      <td>None</td>\n",
       "      <td>None</td>\n",
       "      <td>None</td>\n",
       "    </tr>\n",
       "    <tr>\n",
       "      <th>686</th>\n",
       "      <td>AGENLJR8RIL</td>\n",
       "      <td>None</td>\n",
       "      <td>None</td>\n",
       "      <td>None</td>\n",
       "      <td>None</td>\n",
       "      <td>None</td>\n",
       "      <td>None</td>\n",
       "      <td>None</td>\n",
       "      <td>None</td>\n",
       "      <td>None</td>\n",
       "      <td>...</td>\n",
       "      <td>None</td>\n",
       "      <td>None</td>\n",
       "      <td>None</td>\n",
       "      <td>None</td>\n",
       "      <td>None</td>\n",
       "      <td>None</td>\n",
       "      <td>None</td>\n",
       "      <td>None</td>\n",
       "      <td>None</td>\n",
       "      <td>None</td>\n",
       "    </tr>\n",
       "    <tr>\n",
       "      <th>1882</th>\n",
       "      <td>A1CIPNMZBWUB79</td>\n",
       "      <td>None</td>\n",
       "      <td>None</td>\n",
       "      <td>None</td>\n",
       "      <td>None</td>\n",
       "      <td>None</td>\n",
       "      <td>None</td>\n",
       "      <td>None</td>\n",
       "      <td>None</td>\n",
       "      <td>None</td>\n",
       "      <td>...</td>\n",
       "      <td>None</td>\n",
       "      <td>None</td>\n",
       "      <td>None</td>\n",
       "      <td>None</td>\n",
       "      <td>None</td>\n",
       "      <td>None</td>\n",
       "      <td>None</td>\n",
       "      <td>None</td>\n",
       "      <td>None</td>\n",
       "      <td>None</td>\n",
       "    </tr>\n",
       "    <tr>\n",
       "      <th>940</th>\n",
       "      <td>A26LYNBAN8H9MW</td>\n",
       "      <td>None</td>\n",
       "      <td>None</td>\n",
       "      <td>None</td>\n",
       "      <td>None</td>\n",
       "      <td>None</td>\n",
       "      <td>None</td>\n",
       "      <td>None</td>\n",
       "      <td>None</td>\n",
       "      <td>None</td>\n",
       "      <td>...</td>\n",
       "      <td>None</td>\n",
       "      <td>None</td>\n",
       "      <td>None</td>\n",
       "      <td>None</td>\n",
       "      <td>None</td>\n",
       "      <td>None</td>\n",
       "      <td>None</td>\n",
       "      <td>None</td>\n",
       "      <td>None</td>\n",
       "      <td>None</td>\n",
       "    </tr>\n",
       "    <tr>\n",
       "      <th>241</th>\n",
       "      <td>A24YKPK376UEBA</td>\n",
       "      <td>None</td>\n",
       "      <td>None</td>\n",
       "      <td>None</td>\n",
       "      <td>None</td>\n",
       "      <td>None</td>\n",
       "      <td>None</td>\n",
       "      <td>None</td>\n",
       "      <td>None</td>\n",
       "      <td>None</td>\n",
       "      <td>...</td>\n",
       "      <td>None</td>\n",
       "      <td>None</td>\n",
       "      <td>None</td>\n",
       "      <td>None</td>\n",
       "      <td>None</td>\n",
       "      <td>None</td>\n",
       "      <td>None</td>\n",
       "      <td>None</td>\n",
       "      <td>None</td>\n",
       "      <td>None</td>\n",
       "    </tr>\n",
       "  </tbody>\n",
       "</table>\n",
       "<p>5 rows × 1878 columns</p>\n",
       "</div>"
      ],
      "text/plain": [
       "              UserId B000N5WRTO B008GOR6O0 B000MAPBTI B001ET7E6O B00E5O4AM6  \\\n",
       "1038  A31JGC2ZEESDXO       None       None       None       None       None   \n",
       "686      AGENLJR8RIL       None       None       None       None       None   \n",
       "1882  A1CIPNMZBWUB79       None       None       None       None       None   \n",
       "940   A26LYNBAN8H9MW       None       None       None       None       None   \n",
       "241   A24YKPK376UEBA       None       None       None       None       None   \n",
       "\n",
       "     B00247QR0E B000C233LO B00CD0SUB6 B00IES42YK  ... B004LCZEJK B006HK7BSQ  \\\n",
       "1038       None       None       None       None  ...       None       None   \n",
       "686        None       None       None       None  ...       None       None   \n",
       "1882       None       None       None       None  ...       None       None   \n",
       "940        None       None       None       None  ...       None       None   \n",
       "241        None       None       None       None  ...       None       None   \n",
       "\n",
       "     B002LB75AO B00112BSR0 B00147FGJ8 B00B50RX72 B00524WE2Q B00787OGSA  \\\n",
       "1038       None       None       None       None       None       None   \n",
       "686        None       None       None       None       None       None   \n",
       "1882       None       None       None       None       None       None   \n",
       "940        None       None       None       None       None       None   \n",
       "241        None       None       None       None       None       None   \n",
       "\n",
       "     B004IUN7JO B0048O2R1E  \n",
       "1038       None       None  \n",
       "686        None       None  \n",
       "1882       None       None  \n",
       "940        None       None  \n",
       "241        None       None  \n",
       "\n",
       "[5 rows x 1878 columns]"
      ]
     },
     "execution_count": 13,
     "metadata": {},
     "output_type": "execute_result"
    }
   ],
   "source": [
    "new_df.sample(5)"
   ]
  },
  {
   "cell_type": "code",
   "execution_count": 14,
   "metadata": {},
   "outputs": [
    {
     "data": {
      "text/html": [
       "<div>\n",
       "<style scoped>\n",
       "    .dataframe tbody tr th:only-of-type {\n",
       "        vertical-align: middle;\n",
       "    }\n",
       "\n",
       "    .dataframe tbody tr th {\n",
       "        vertical-align: top;\n",
       "    }\n",
       "\n",
       "    .dataframe thead th {\n",
       "        text-align: right;\n",
       "    }\n",
       "</style>\n",
       "<table border=\"1\" class=\"dataframe\">\n",
       "  <thead>\n",
       "    <tr style=\"text-align: right;\">\n",
       "      <th></th>\n",
       "      <th>1789</th>\n",
       "    </tr>\n",
       "  </thead>\n",
       "  <tbody>\n",
       "    <tr>\n",
       "      <th>B007O7AZBG</th>\n",
       "      <td>5.0</td>\n",
       "    </tr>\n",
       "  </tbody>\n",
       "</table>\n",
       "</div>"
      ],
      "text/plain": [
       "           1789\n",
       "B007O7AZBG  5.0"
      ]
     },
     "execution_count": 14,
     "metadata": {},
     "output_type": "execute_result"
    }
   ],
   "source": [
    "user = pd.DataFrame(new_df.iloc[1789]) #randomly select user\n",
    "user = user.drop(['UserId'])\n",
    "user[user.notnull().values]"
   ]
  },
  {
   "cell_type": "code",
   "execution_count": 16,
   "metadata": {},
   "outputs": [
    {
     "data": {
      "text/html": [
       "<div>\n",
       "<style scoped>\n",
       "    .dataframe tbody tr th:only-of-type {\n",
       "        vertical-align: middle;\n",
       "    }\n",
       "\n",
       "    .dataframe tbody tr th {\n",
       "        vertical-align: top;\n",
       "    }\n",
       "\n",
       "    .dataframe thead th {\n",
       "        text-align: right;\n",
       "    }\n",
       "</style>\n",
       "<table border=\"1\" class=\"dataframe\">\n",
       "  <thead>\n",
       "    <tr style=\"text-align: right;\">\n",
       "      <th></th>\n",
       "      <th>UserId</th>\n",
       "      <th>B000N5WRTO</th>\n",
       "      <th>B008GOR6O0</th>\n",
       "      <th>B000MAPBTI</th>\n",
       "      <th>B001ET7E6O</th>\n",
       "      <th>B00E5O4AM6</th>\n",
       "      <th>B00247QR0E</th>\n",
       "      <th>B000C233LO</th>\n",
       "      <th>B00CD0SUB6</th>\n",
       "      <th>B00IES42YK</th>\n",
       "      <th>...</th>\n",
       "      <th>B004LCZEJK</th>\n",
       "      <th>B006HK7BSQ</th>\n",
       "      <th>B002LB75AO</th>\n",
       "      <th>B00112BSR0</th>\n",
       "      <th>B00147FGJ8</th>\n",
       "      <th>B00B50RX72</th>\n",
       "      <th>B00524WE2Q</th>\n",
       "      <th>B00787OGSA</th>\n",
       "      <th>B004IUN7JO</th>\n",
       "      <th>B0048O2R1E</th>\n",
       "    </tr>\n",
       "  </thead>\n",
       "  <tbody>\n",
       "    <tr>\n",
       "      <th>1789</th>\n",
       "      <td>A3UL5OE85H3TQO</td>\n",
       "      <td>None</td>\n",
       "      <td>None</td>\n",
       "      <td>None</td>\n",
       "      <td>None</td>\n",
       "      <td>None</td>\n",
       "      <td>None</td>\n",
       "      <td>None</td>\n",
       "      <td>None</td>\n",
       "      <td>None</td>\n",
       "      <td>...</td>\n",
       "      <td>None</td>\n",
       "      <td>None</td>\n",
       "      <td>None</td>\n",
       "      <td>None</td>\n",
       "      <td>None</td>\n",
       "      <td>None</td>\n",
       "      <td>None</td>\n",
       "      <td>None</td>\n",
       "      <td>None</td>\n",
       "      <td>None</td>\n",
       "    </tr>\n",
       "  </tbody>\n",
       "</table>\n",
       "<p>1 rows × 1878 columns</p>\n",
       "</div>"
      ],
      "text/plain": [
       "              UserId B000N5WRTO B008GOR6O0 B000MAPBTI B001ET7E6O B00E5O4AM6  \\\n",
       "1789  A3UL5OE85H3TQO       None       None       None       None       None   \n",
       "\n",
       "     B00247QR0E B000C233LO B00CD0SUB6 B00IES42YK  ... B004LCZEJK B006HK7BSQ  \\\n",
       "1789       None       None       None       None  ...       None       None   \n",
       "\n",
       "     B002LB75AO B00112BSR0 B00147FGJ8 B00B50RX72 B00524WE2Q B00787OGSA  \\\n",
       "1789       None       None       None       None       None       None   \n",
       "\n",
       "     B004IUN7JO B0048O2R1E  \n",
       "1789       None       None  \n",
       "\n",
       "[1 rows x 1878 columns]"
      ]
     },
     "execution_count": 16,
     "metadata": {},
     "output_type": "execute_result"
    }
   ],
   "source": [
    "subset = new_df[new_df[user[user.notnull().values].index[0]].notnull()]\n",
    "subset.head()"
   ]
  },
  {
   "cell_type": "code",
   "execution_count": 17,
   "metadata": {},
   "outputs": [],
   "source": [
    "subset = subset.replace([None], 0)\n",
    "subset = subset.set_index('UserId')"
   ]
  },
  {
   "cell_type": "code",
   "execution_count": 18,
   "metadata": {},
   "outputs": [
    {
     "data": {
      "text/html": [
       "<div>\n",
       "<style scoped>\n",
       "    .dataframe tbody tr th:only-of-type {\n",
       "        vertical-align: middle;\n",
       "    }\n",
       "\n",
       "    .dataframe tbody tr th {\n",
       "        vertical-align: top;\n",
       "    }\n",
       "\n",
       "    .dataframe thead th {\n",
       "        text-align: right;\n",
       "    }\n",
       "</style>\n",
       "<table border=\"1\" class=\"dataframe\">\n",
       "  <thead>\n",
       "    <tr style=\"text-align: right;\">\n",
       "      <th></th>\n",
       "      <th>B000N5WRTO</th>\n",
       "      <th>B008GOR6O0</th>\n",
       "      <th>B000MAPBTI</th>\n",
       "      <th>B001ET7E6O</th>\n",
       "      <th>B00E5O4AM6</th>\n",
       "      <th>B00247QR0E</th>\n",
       "      <th>B000C233LO</th>\n",
       "      <th>B00CD0SUB6</th>\n",
       "      <th>B00IES42YK</th>\n",
       "      <th>B003NSPOF2</th>\n",
       "      <th>...</th>\n",
       "      <th>B004LCZEJK</th>\n",
       "      <th>B006HK7BSQ</th>\n",
       "      <th>B002LB75AO</th>\n",
       "      <th>B00112BSR0</th>\n",
       "      <th>B00147FGJ8</th>\n",
       "      <th>B00B50RX72</th>\n",
       "      <th>B00524WE2Q</th>\n",
       "      <th>B00787OGSA</th>\n",
       "      <th>B004IUN7JO</th>\n",
       "      <th>B0048O2R1E</th>\n",
       "    </tr>\n",
       "    <tr>\n",
       "      <th>UserId</th>\n",
       "      <th></th>\n",
       "      <th></th>\n",
       "      <th></th>\n",
       "      <th></th>\n",
       "      <th></th>\n",
       "      <th></th>\n",
       "      <th></th>\n",
       "      <th></th>\n",
       "      <th></th>\n",
       "      <th></th>\n",
       "      <th></th>\n",
       "      <th></th>\n",
       "      <th></th>\n",
       "      <th></th>\n",
       "      <th></th>\n",
       "      <th></th>\n",
       "      <th></th>\n",
       "      <th></th>\n",
       "      <th></th>\n",
       "      <th></th>\n",
       "      <th></th>\n",
       "    </tr>\n",
       "  </thead>\n",
       "  <tbody>\n",
       "    <tr>\n",
       "      <th>A3UL5OE85H3TQO</th>\n",
       "      <td>0</td>\n",
       "      <td>0</td>\n",
       "      <td>0</td>\n",
       "      <td>0</td>\n",
       "      <td>0</td>\n",
       "      <td>0</td>\n",
       "      <td>0</td>\n",
       "      <td>0</td>\n",
       "      <td>0</td>\n",
       "      <td>0</td>\n",
       "      <td>...</td>\n",
       "      <td>0</td>\n",
       "      <td>0</td>\n",
       "      <td>0</td>\n",
       "      <td>0</td>\n",
       "      <td>0</td>\n",
       "      <td>0</td>\n",
       "      <td>0</td>\n",
       "      <td>0</td>\n",
       "      <td>0</td>\n",
       "      <td>0</td>\n",
       "    </tr>\n",
       "  </tbody>\n",
       "</table>\n",
       "<p>1 rows × 1877 columns</p>\n",
       "</div>"
      ],
      "text/plain": [
       "                B000N5WRTO  B008GOR6O0  B000MAPBTI  B001ET7E6O  B00E5O4AM6  \\\n",
       "UserId                                                                       \n",
       "A3UL5OE85H3TQO           0           0           0           0           0   \n",
       "\n",
       "                B00247QR0E  B000C233LO  B00CD0SUB6  B00IES42YK  B003NSPOF2  \\\n",
       "UserId                                                                       \n",
       "A3UL5OE85H3TQO           0           0           0           0           0   \n",
       "\n",
       "                ...  B004LCZEJK  B006HK7BSQ  B002LB75AO  B00112BSR0  \\\n",
       "UserId          ...                                                   \n",
       "A3UL5OE85H3TQO  ...           0           0           0           0   \n",
       "\n",
       "                B00147FGJ8  B00B50RX72  B00524WE2Q  B00787OGSA  B004IUN7JO  \\\n",
       "UserId                                                                       \n",
       "A3UL5OE85H3TQO           0           0           0           0           0   \n",
       "\n",
       "                B0048O2R1E  \n",
       "UserId                      \n",
       "A3UL5OE85H3TQO           0  \n",
       "\n",
       "[1 rows x 1877 columns]"
      ]
     },
     "execution_count": 18,
     "metadata": {},
     "output_type": "execute_result"
    }
   ],
   "source": [
    "subset.head()"
   ]
  },
  {
   "cell_type": "code",
   "execution_count": 20,
   "metadata": {},
   "outputs": [],
   "source": [
    "subset['cos_similarity'] = 0.0\n",
    "for user in subset.index:\n",
    "    cos = cosine_similarity(subset.loc['A3UL5OE85H3TQO'].values.reshape(1, -1), subset.loc[user].values.reshape(1, -1))"
   ]
  },
  {
   "cell_type": "code",
   "execution_count": 21,
   "metadata": {},
   "outputs": [
    {
     "data": {
      "text/plain": [
       "UserId\n",
       "A3UL5OE85H3TQO    0.0\n",
       "Name: cos_similarity, dtype: float64"
      ]
     },
     "execution_count": 21,
     "metadata": {},
     "output_type": "execute_result"
    }
   ],
   "source": [
    "subset['cos_similarity']"
   ]
  },
  {
   "cell_type": "code",
   "execution_count": null,
   "metadata": {},
   "outputs": [],
   "source": []
  }
 ],
 "metadata": {
  "kernelspec": {
   "display_name": "Python 3",
   "language": "python",
   "name": "python3"
  },
  "language_info": {
   "codemirror_mode": {
    "name": "ipython",
    "version": 3
   },
   "file_extension": ".py",
   "mimetype": "text/x-python",
   "name": "python",
   "nbconvert_exporter": "python",
   "pygments_lexer": "ipython3",
   "version": "3.10.8"
  },
  "orig_nbformat": 4,
  "vscode": {
   "interpreter": {
    "hash": "60fab8fe8636a998ca6cb0b1b1e73f8aa28fc993054ea5d496530e7813c285a1"
   }
  }
 },
 "nbformat": 4,
 "nbformat_minor": 2
}
